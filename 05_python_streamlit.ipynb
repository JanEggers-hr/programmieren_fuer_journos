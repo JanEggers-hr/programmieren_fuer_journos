{
 "cells": [
  {
   "cell_type": "markdown",
   "metadata": {},
   "source": [
    "# 05 Python und Streamlit\n",
    "\n",
    "Svelte war richtig cool! Vor allem, weil man sofort sehen kann, was man verändert hat - und es ziemlich einfach ist, Bedienknöpfe und Schieberegler einzubauen. Wenn man den Komfort doch auch nur in Python hätte... (Diese Notebooks, wie das hier, sind ja deutlich umständlicher, auch wenn sie einem die schönen ipywidgets aus [Übung 03](./03_interaktive_widgets.ipynb) zur Verfügung stellen.)\n",
    "\n",
    "Das Schöne: es gibt eine Python-Erweiterung, mit der man an den Komfort von Svelte zumindest herankommt. [Streamlit](https://streamlit.io/) macht es einfach, Python-Apps mit Eingabe- und Ausgabe-Elementen zu bauen - und sich gleich anzuschauen, was man im Code verändert hat.  \n",
    "\n",
    "## Streamlit einbauen und testen\n",
    "\n",
    "Zuerst brauchen wir die ```streamlit```-Bibliothek (und das begleitende ```watchdog```-Paket, das die Ausführung etwas beschleunigt). \n",
    "\n",
    "Die nächste Codebox ausführen (oder die Zeile im Terminal eingeben, ohne das Ausführungszeichen): "
   ]
  },
  {
   "cell_type": "code",
   "execution_count": null,
   "metadata": {},
   "outputs": [],
   "source": [
    "!pip install streamlit watchdog"
   ]
  },
  {
   "cell_type": "markdown",
   "metadata": {},
   "source": [
    "**So, aber wie benutzt man das jetzt?** Schauen wir uns das einfach Streamlit-Programm im nächsten Codeblock an: \n",
    "\n",
    "- Es druckt \"Hello World!\"\n",
    "- Es zaubert einen Schieberegler auf den Schirm... \n",
    "- ...und zeigt das Ergebnis einer Berechnung, wenn wir den Regler verschieben. \n",
    "\n",
    "Allerdings: wenn wir die nächste Codebox in diesem Workbook ausführen, bekommen wir... nur Fehlermeldungen. \n",
    "\n",
    "Streamlit läuft nicht in Notebooks. Streamlit-Programme startet man auf der Kommandozeile mit\n",
    "\n",
    "```\n",
    "streamlit run <dateiname.py>\n",
    "```\n",
    "\n",
    "Dafür den Codeblock als Extra-Datei abspeichern: \n",
    "\n",
    "- Eine leere Python-Datei anlegen (im VSC-Menü über \"Datei/Neue Datei...\" oder das Neues-Dokument-Symbol im VSC-Datei-Explorer)\n",
    "- Den Inhalt des Codeblocks unten in die leere Datei kopieren\n",
    "- Abspeichern als ```streamlit_hello_world.py```"
   ]
  },
  {
   "cell_type": "code",
   "execution_count": null,
   "metadata": {},
   "outputs": [],
   "source": [
    "# Die einfachst mögliche Streamlit-App\n",
    "\n",
    "import streamlit as st\n",
    "hello_str = \"World\"\n",
    "st.write(f\"Hello {hello_str}!\")\n",
    "\n",
    "# ...mit einer kleinen Erweiterung:\n",
    "x = st.slider(\"Gib einen Wert mit dem Slider ein:\",\n",
    "              min_value = 0,\n",
    "              max_value = 100,\n",
    "              value = 1)\n",
    "st.write(x, \"zum Quadrat ist\", x * x)"
   ]
  },
  {
   "cell_type": "markdown",
   "metadata": {},
   "source": [
    "Die Datei können wir jetzt entweder über das Terminal ausführen - oder über einen Klick mit einer kleinen Erweiterung: \n",
    "\n",
    "## VSC-Erweiterung installieren\n",
    "\n",
    "Über die Erweiterung [https://marketplace.visualstudio.com/items?itemName=joshrmosier.streamlit-runner](Streamlit-Runner) kann man Streamlit-Apps direkt in VSC ausführen: Rechtsklick auf die Datei, \"Run with streamlit\" auswählen - das öffnet ein Browserfenster, in dem die App ausgeführt wird. \n",
    "\n",
    "![Screenshot: Kontextmenü für Datei in VSC nach Rechtsklick](bilder/streamlit.png)\n",
    "\n",
    "## Wenn ich etwas ändere...\n",
    "\n",
    "...und die Änderung in VSC speichere, bekommt Streamlit das mit - und fragt mich am oberen rechten Browserfenster-Rand, ob es die Änderungen ausführen soll: \n",
    "\n",
    "![Screenshot: Kontextmenü für Datei in VSC nach Rechtsklick](bilder/streamlit_rerun.png)\n",
    "\n",
    "Wer auf \"Always rerun\" klickt, bekommt jede Änderung angezeigt, sobald sie gespeichert ist. \n",
    "\n",
    "## Stoppen\n",
    "\n",
    "Die Streamlit-Anwendung läuft solange, bis VSC beendet wird - oder das Programm im Terminal mit Ctrl-C bzw. Cmd-C beendet wird. \n",
    "\n",
    "# Aufgabe: \n",
    "\n",
    "Unten ist eine kleine Beispielanwendung für einen sehr simplen Claude-Chatbot. \n",
    "\n",
    "- Kannst du ihn zum Laufen bringen?\n",
    "- Kannst du ihn so umbauen, dass er ```ollama``` und ein lokales KI-Modell wie das sehr genügsame ```llama3.2``` nutzt?\n"
   ]
  },
  {
   "cell_type": "code",
   "execution_count": null,
   "metadata": {},
   "outputs": [],
   "source": [
    "# Basiert auf der Streamlit-Demo-Anwendung: \n",
    "# - https://github.com/streamlit/llm-examples\n",
    "# \n",
    "# Dokumentation der Bibliotheken für Anthropic/Claude und Ollama: \n",
    "# - https://github.com/anthropics/anthropic-sdk-python\n",
    "# - https://github.com/ollama/ollama-python\n",
    "\n",
    "from anthropic import Anthropic\n",
    "import streamlit as st\n",
    "\n",
    "\n",
    "with st.sidebar:\n",
    "    api_key = st.text_input(\"Anthropic API Key\", key=\"chatbot_api_key\", type=\"password\")\n",
    "    # Strings werden als Markdown interpretiert - das hier ist ein Link!\n",
    "    \"[API-Key bei Anthropic bekommen](https://console.anthropic.com/settings/keys)\"\n",
    "    \n",
    "\n",
    "st.title(\"💬 Claude-Chatbot\")\n",
    "st.caption(\"🚀 Eine einfache Streamlit-Anwendung, die die Anthropic-KI nutzt\")\n",
    "if \"messages\" not in st.session_state:\n",
    "    st.session_state[\"messages\"] = [{\"role\": \"assistant\", \"content\": \"Was kann ich für dich tun?\"}]\n",
    "\n",
    "for msg in st.session_state.messages:\n",
    "    st.chat_message(msg[\"role\"]).write(msg[\"content\"])\n",
    "\n",
    "if prompt := st.chat_input():\n",
    "    if not api_key:\n",
    "        st.info(\"Bitte erst einen Anthropic-API-Key eintragen.\")\n",
    "        st.stop()\n",
    "\n",
    "    client = Anthropic(api_key=api_key)\n",
    "    st.session_state.messages.append({\"role\": \"user\", \"content\": prompt})\n",
    "    st.chat_message(\"user\").write(prompt)\n",
    "    response = client.messages.create(\n",
    "        max_tokens = 1024,\n",
    "        model=\"claude-3-5-sonnet-latest\", \n",
    "        messages=st.session_state.messages)\n",
    "    msg = response.content[0].text\n",
    "    st.session_state.messages.append({\"role\": \"assistant\", \"content\": msg})\n",
    "    st.chat_message(\"assistant\").write(msg)"
   ]
  }
 ],
 "metadata": {
  "kernelspec": {
   "display_name": "base",
   "language": "python",
   "name": "python3"
  },
  "language_info": {
   "codemirror_mode": {
    "name": "ipython",
    "version": 3
   },
   "file_extension": ".py",
   "mimetype": "text/x-python",
   "name": "python",
   "nbconvert_exporter": "python",
   "pygments_lexer": "ipython3",
   "version": "3.12.2"
  }
 },
 "nbformat": 4,
 "nbformat_minor": 2
}
