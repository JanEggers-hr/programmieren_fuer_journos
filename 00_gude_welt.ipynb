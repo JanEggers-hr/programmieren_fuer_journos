{
 "cells": [
  {
   "cell_type": "markdown",
   "metadata": {
    "colab_type": "text",
    "id": "view-in-github"
   },
   "source": [
    "<a href=\"https://colab.research.google.com/github/JanEggers-hr/ddj-python-kurs/blob/main/gude_welt.ipynb\" target=\"_parent\"><img src=\"https://colab.research.google.com/assets/colab-badge.svg\" alt=\"Open In Colab\"/></a>"
   ]
  },
  {
   "cell_type": "markdown",
   "metadata": {
    "id": "JU48QhXoFEVm"
   },
   "source": [
    "# gude_welt.ipynb\n",
    "Ein erstes Python-Skript.\n",
    "\n",
    "CC-BY Jan Eggers"
   ]
  },
  {
   "cell_type": "markdown",
   "metadata": {
    "id": "aAPy0qXrFEVn"
   },
   "source": [
    "## Was man über \"Notebooks\" wissen muss\n",
    "- Notebooks sind eine Mischung aus ausführbarem Code und Textblöcken.\n",
    "- Den Text gibt man als [\"Markdown\"](https://github.com/adam-p/markdown-here/wiki/Markdown-Cheatsheet) ein - mit einfachen Steuerbefehlen wie **\\*\\*fett\\*\\*** oder **\\# Überschrift**. \n",
    "- Wenn man einen Codeblock ausführt, gibt er das Ergebnis unter dem Block aus - wie es Python auf der Kommandozeile auch tun würde.\n",
    "- Man kann die Codeblöcke mit Shift+Enter ausführen und zum nächsten springen.\n",
    "\n",
    "Jetzt einfach mal ausprobieren: \n",
    "*Kursiv* und **fett** \n"
   ]
  },
  {
   "cell_type": "code",
   "execution_count": 36,
   "metadata": {
    "id": "FDJJniVoFEVo"
   },
   "outputs": [
    {
     "data": {
      "text/plain": [
       "2"
      ]
     },
     "execution_count": 36,
     "metadata": {},
     "output_type": "execute_result"
    }
   ],
   "source": [
    "1+1"
   ]
  },
  {
   "cell_type": "markdown",
   "metadata": {
    "id": "8NMbtxDSFEVo"
   },
   "source": [
    "Und die traditionelle Begrüßung in einer neuen Programmiersprache: "
   ]
  },
  {
   "cell_type": "code",
   "execution_count": null,
   "metadata": {
    "id": "Tj4VOlE0FEVp"
   },
   "outputs": [],
   "source": [
    "print(\"Gude Welt!\")"
   ]
  },
  {
   "cell_type": "markdown",
   "metadata": {},
   "source": [
    "**Okay - was tun wir als Nächstes?**"
   ]
  }
 ],
 "metadata": {
  "colab": {
   "include_colab_link": true,
   "provenance": []
  },
  "kernelspec": {
   "display_name": "Python 3 (ipykernel)",
   "language": "python",
   "name": "python3"
  },
  "language_info": {
   "codemirror_mode": {
    "name": "ipython",
    "version": 3
   },
   "file_extension": ".py",
   "mimetype": "text/x-python",
   "name": "python",
   "nbconvert_exporter": "python",
   "pygments_lexer": "ipython3",
   "version": "3.10.14"
  }
 },
 "nbformat": 4,
 "nbformat_minor": 0
}
