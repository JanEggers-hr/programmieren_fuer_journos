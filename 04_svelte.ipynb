{
 "cells": [
  {
   "cell_type": "markdown",
   "metadata": {},
   "source": [
    "# 04: Etwas HTML und Javascript\n",
    "\n",
    "Python ist ja schön und gut, aber wie sieht es mit Webseiten aus? \n",
    "\n",
    "Dazu wechseln wir gleich zu **Svelte**. Svelte ist genau für Menschen wie uns geschaffen, die eigentlich nicht viel Programmieren lernen wollen - und trotzdem die Möglichkeiten von Javascript nutzen. (Frontend? Erinnert ihr euch?)\n",
    "\n",
    "Vorhin hatten wir gesagt, Javascript ist so ein wenig wie \"Harald aus dem Verkauf\": ewig da, ein wenig aus der Zeit gefallen, aber unerlässlich, wenn sich etwas bewegen soll. \n",
    "\n",
    "Svelte ist ein Javascript-**“Framework”** - gewissermaßen die junge, smarte Assistentin, die “Harald aus dem Verkauf” die Aufträge übermittelt und alle seine Eigenheiten und Sturheiten glatt bügelt. (Und ein paar eigene Fähigkeiten mitbringt.) \n",
    "\n",
    "## Zu Svelte wechseln\n",
    "\n",
    "Führ einfach die nächste Codebox aus.\n",
    "\n",
    "Die Aufgabe: Kannst du das \"Hello World\" so ändern, dass: \n",
    "\n",
    "- Fettdruck, Kursivdruck und eine Bullet-Point-Liste darin vorkommen?\n",
    "- Das Aussehen von Textblöcken angepasst wird an den von uns vorgegebenen Stil? (Schriftart, -größe, -farbe; Formatierung etc. etc.)\n",
    "- Die Überschrift über eine Variable zu ändern ist?\n",
    "- Ein Aktionsknopf in der Seite eingebaut ist?"
   ]
  },
  {
   "cell_type": "code",
   "execution_count": null,
   "metadata": {},
   "outputs": [],
   "source": [
    "import webbrowser\n",
    "webbrowser.open('https://svelte.dev/playground/hello-world')\n"
   ]
  }
 ],
 "metadata": {
  "language_info": {
   "name": "python"
  }
 },
 "nbformat": 4,
 "nbformat_minor": 2
}
