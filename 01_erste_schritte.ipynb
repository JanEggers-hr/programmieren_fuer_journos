{
 "cells": [
  {
   "cell_type": "markdown",
   "metadata": {
    "colab_type": "text",
    "id": "view-in-github"
   },
   "source": [
    "<a href=\"https://colab.research.google.com/github/JanEggers-hr/ddj-python-kurs/blob/main/gude_welt.ipynb\" target=\"_parent\"><img src=\"https://colab.research.google.com/assets/colab-badge.svg\" alt=\"Open In Colab\"/></a>"
   ]
  },
  {
   "cell_type": "markdown",
   "metadata": {
    "id": "JU48QhXoFEVm"
   },
   "source": [
    "# 01_erste_schritte.ipynb\n",
    "Wir fangen an zu programmieren - der Computer folgt uns aufs Wort!\n",
    "\n",
    "CC-BY Jan Eggers"
   ]
  },
  {
   "cell_type": "code",
   "execution_count": null,
   "metadata": {},
   "outputs": [],
   "source": [
    "text = \"Herr und Meister, ich gehorche.\"\n",
    "print(mein_text)"
   ]
  },
  {
   "cell_type": "markdown",
   "metadata": {},
   "source": [
    "Doppelklick auf die Zelle - dann kannst du sie bearbeiten. \n",
    "\n",
    "----\n",
    "(Hier ist Platz für deine Notizen)\n",
    "\n",
    "----\n",
    "\n",
    "Die Text-Zellen enthalten so genanntes [Markdown](https://www.heise.de/mac-and-i/downloads/65/1/1/6/7/1/0/3/Markdown-CheatSheet-Deutsch.pdf) - eine einfache Form, Texte zu formatieren und so Dinge wie Links unterzubringen (hier einen zur Markdown-Erklärseite der Computerzeitschrift \"Mac and I\". )\n",
    "\n",
    "## Mein erstes Python-Programm\n",
    "\n",
    "Dieser Code schreibt 20 Zeilen Text, mit einer Leerzeile nach jeder 10. Zeile. \n",
    "\n",
    "- Probiere ihn aus. \n",
    "- Ändere ihn so ab, dass er schon nach jeder 5. Zeile eine Leerzeile ausgibt. "
   ]
  },
  {
   "cell_type": "code",
   "execution_count": null,
   "metadata": {},
   "outputs": [],
   "source": [
    "for i in range(20):\n",
    "  print(\"Das ist Zeile \",i)\n",
    "  if i % 10 == 0: \n",
    "    print()\n"
   ]
  },
  {
   "cell_type": "markdown",
   "metadata": {},
   "source": [
    "## Fehlersuche\n",
    "\n",
    "Probier die nächste Zelle aus. Warum funktioniert das hier nicht?"
   ]
  },
  {
   "cell_type": "code",
   "execution_count": null,
   "metadata": {},
   "outputs": [],
   "source": [
    "for i in range(30):\n",
    "print(\"Die Quadratzahl von\",i,\"ist\",i * i)"
   ]
  },
  {
   "cell_type": "markdown",
   "metadata": {},
   "source": [
    "## Ein merkwürdiger neuer Codeblock\n",
    "\n",
    "Was tut das hier, wenn wir es ausführen?"
   ]
  },
  {
   "cell_type": "code",
   "execution_count": null,
   "metadata": {},
   "outputs": [],
   "source": [
    "def rot13(text):\n",
    "    d = {}\n",
    "    for ascii_code in (65, 97):\n",
    "        for alphabet_index in range(26):\n",
    "            d[chr(ascii_code + alphabet_index)] = \\\n",
    "                        chr(ascii_code + (alphabet_index + 13) % 26)\n",
    "    return ''.join([d.get(letter, letter) for letter in text])"
   ]
  },
  {
   "cell_type": "markdown",
   "metadata": {},
   "source": [
    "Wenn wir diesen Block ausführen, passiert... nichts. Erst mal! Wir haben dem Computer eine so genannte Funktion definiert - ein Stück Computer-Code, den wir später aufrufen können, um eine Aufgabe immer wieder zu erledigen: Wir haben uns gewissermaßen ein Werkzeug zurecht gelegt.\n",
    "\n",
    "Unser Werkzeug heißt ```rot13()```. Wir setzen es ein, indem wir seinen Namen schreiben und in Klammer das, worauf wir das Werkzeug anwenden wollen. "
   ]
  },
  {
   "cell_type": "code",
   "execution_count": null,
   "metadata": {},
   "outputs": [],
   "source": [
    "print(rot13(\"Thqr! Qvrfrf Cebtenzz shaxgvbavreg haq irefpuyüffryg/ragfpuyüffryg qra Grkg!\"))\n",
    "text = input(\"Probier es aus: \")\n",
    "print(rot13(text))\n"
   ]
  },
  {
   "cell_type": "markdown",
   "metadata": {},
   "source": [
    "**Okay - was tun wir als Nächstes?**"
   ]
  }
 ],
 "metadata": {
  "colab": {
   "include_colab_link": true,
   "provenance": []
  },
  "kernelspec": {
   "display_name": "base",
   "language": "python",
   "name": "python3"
  },
  "language_info": {
   "codemirror_mode": {
    "name": "ipython",
    "version": 3
   },
   "file_extension": ".py",
   "mimetype": "text/x-python",
   "name": "python",
   "nbconvert_exporter": "python",
   "pygments_lexer": "ipython3",
   "version": "3.10.14"
  }
 },
 "nbformat": 4,
 "nbformat_minor": 0
}
