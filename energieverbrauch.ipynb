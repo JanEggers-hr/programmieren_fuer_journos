{
 "cells": [
  {
   "cell_type": "markdown",
   "metadata": {
    "colab_type": "text",
    "id": "view-in-github"
   },
   "source": [
    "<a href=\"https://colab.research.google.com/github/JanEggers-hr/ddj-python-kurs/blob/main/Katharina_Paul_Gasverbrauch.ipynb\" target=\"_parent\"><img src=\"https://colab.research.google.com/assets/colab-badge.svg\" alt=\"Open In Colab\"/></a>"
   ]
  },
  {
   "cell_type": "markdown",
   "metadata": {
    "id": "xBg6ws6BIRPL"
   },
   "source": [
    "# Gasverbrauch-Daten aufbereiten\n",
    "\n",
    "Die Bundesnetzagentur stellt auf dieser Seite wöchentlich Verbrauchsdaten für private Haushalte/Gewerbe und Industrie zur Verfügung - daraus wollen wir mit einem automatisierten Skript eine Grafik des Verbrauchs im Vergleich zum Schnitt der Vorjahre ausgeben. \n",
    "\n",
    "Folgende Schritte muss das Python-Skript gehen: \n",
    "- Lies die CSV-Dateien für den Verbrauch je Woche ein\n",
    "- Führe die Dateien zusammen\n",
    "- Berechne die Abweichung vom Mittel der Vorjahre (pro Woche und kumulativ)\n",
    "- Aktualisiere eine Datawrapper-Grafik über die API \n",
    "\n",
    "Als Vorbild dient uns [dieses Colab-Notebook]() von Jan, das RKI-Corona-Daten aufarbeitet. \n"
   ]
  },
  {
   "cell_type": "markdown",
   "metadata": {
    "id": "mcLfkkxGIRPN"
   },
   "source": [
    "## Vorbereitung: Bibliotheken laden\n",
    "Zusatzpakete statten Python mit Fähigkeiten zur Ein- und Ausgabe aus. Sie müssen in der jeweiligen Python-Umgebung installiert sein - wenn sie das nicht sind, muss man einmal auf die Kommandozeile und beispielsweise mit dem Befehl\n",
    "```pip install pandas``` das Pandas-Paket installieren, das wir für Tabellen (\"Dataframes\") brauchen. \n",
    "\n",
    "Ein Paket, das wir auf jeden Fall brauchen, ist ```datawrapper```."
   ]
  },
  {
   "cell_type": "code",
   "execution_count": null,
   "metadata": {
    "id": "LbwgxhusIRPP"
   },
   "outputs": [],
   "source": [
    "import pandas as pd\n",
    "import numpy as np\n",
    "from datawrapper import Datawrapper"
   ]
  },
  {
   "cell_type": "markdown",
   "metadata": {
    "id": "QtfIaVvwIRPQ"
   },
   "source": [
    "Den obigen Textblock ausgeführt - und nichts ist passiert? Dann hat alles geklappt - und wir können loslegen. \n",
    "\n",
    "## CSV-Datensatz holen\n",
    "\n",
    "Vorbild: https://www.smard.de/home\n",
    "Details: https://github.com/bundesAPI/smard-api "
   ]
  },
  {
   "cell_type": "code",
   "execution_count": null,
   "metadata": {
    "id": "IRRjOAntIRPR"
   },
   "outputs": [],
   "source": [
    "url = \"https://www.bundesnetzagentur.de/_tools/SVG/js2/_functions/csv_export.html?view=renderCSV&id=1081208\"\n",
    "\n",
    "bna_df = pd.read_csv(url,sep=\";\")\n",
    "bna_df = bna_df.rename(columns={\".\":\"KW\"})\n",
    "bna_df.head(12)"
   ]
  },
  {
   "cell_type": "markdown",
   "metadata": {
    "id": "8l6HonBaIRPS"
   },
   "source": [
    "** Beschreiben **\n",
    "\n",
    "Was ist im Dataframe eigentlich drin?\n"
   ]
  },
  {
   "cell_type": "code",
   "execution_count": null,
   "metadata": {
    "id": "ariTi2nWIRPT"
   },
   "outputs": [],
   "source": [
    "bna_df.describe()"
   ]
  },
  {
   "cell_type": "markdown",
   "metadata": {
    "id": "h0CCQNY7IRPW"
   },
   "source": [
    "**Tabelle umarbeiten**: "
   ]
  },
  {
   "cell_type": "markdown",
   "metadata": {
    "id": "UK1B_R8YIRPZ"
   },
   "source": [
    "## Tabelle zu Datawrapper schicken\n",
    "\n",
    "Achtung, falscher API-Key und falsche Grafik - nur zu Demo-Zwecken!"
   ]
  },
  {
   "cell_type": "code",
   "execution_count": null,
   "metadata": {
    "id": "aps6wptrIRPa"
   },
   "outputs": [],
   "source": [
    "dw = Datawrapper(access_token = \"yyEPvbLs4C20dQAoBi3zm3RpcvPxHaXbHLDJD5PZuDF8TGOilDYHwa0xJAjHeKyu\")\n",
    "dw.add_data(\"eVj1E\",bna_df)"
   ]
  }
 ],
 "metadata": {
  "colab": {
   "include_colab_link": true,
   "provenance": []
  },
  "kernelspec": {
   "display_name": "Python 3 (ipykernel)",
   "language": "python",
   "name": "python3"
  },
  "language_info": {
   "codemirror_mode": {
    "name": "ipython",
    "version": 3
   },
   "file_extension": ".py",
   "mimetype": "text/x-python",
   "name": "python",
   "nbconvert_exporter": "python",
   "pygments_lexer": "ipython3",
   "version": "3.8.13"
  }
 },
 "nbformat": 4,
 "nbformat_minor": 0
}
