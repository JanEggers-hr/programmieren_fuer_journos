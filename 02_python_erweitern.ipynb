{
 "cells": [
  {
   "cell_type": "markdown",
   "metadata": {
    "colab_type": "text",
    "id": "view-in-github"
   },
   "source": [
    "<a href=\"https://colab.research.google.com/github/JanEggers-hr/ddj-python-kurs/blob/main/ddj_python_kurs_uebung02.ipynb\" target=\"_parent\"><img src=\"https://colab.research.google.com/assets/colab-badge.svg\" alt=\"Open In Colab\"/></a>"
   ]
  },
  {
   "cell_type": "markdown",
   "metadata": {
    "id": "cBXbBXDpvUNy"
   },
   "source": [
    "# Übung 02: Python erweitern \n",
    "\n",
    "Was wir bisher gelernt haben:\n",
    "\n",
    "**Jede wirklich schwere Programmier-Aufgabe ist mit hoher Wahrscheinlichkeit schon mal irgendwo gelöst.**   \n",
    "\n",
    "Python hat einen Mechanismus, um die Programmier-Lösungen anderer Menschen einzubinden: Bibliotheken. \n",
    "\n",
    "\n",
    "# Nehmen wir zum Beispiel das Problem, mit einem Datum umzugehen - und zwei Daten zu vergleichen. "
   ]
  },
  {
   "cell_type": "markdown",
   "metadata": {
    "id": "1hRosREoIaDI"
   },
   "source": [
    "Das folgende Programm soll ein Datum abfragen - in einer bestimmten Form. Wie überprüfen wir, ob es ein Datum ist?\n",
    "\n",
    "Das hier funktioniert nicht, weil die Funktion ```erlaubt(d)``` nicht herausfindet, ob etwas ein erlaubtes Datum ist, sondern immer False zurückgibt - die Schleife läuft, bis wir sie abbrechen. "
   ]
  },
  {
   "cell_type": "code",
   "execution_count": null,
   "metadata": {
    "id": "MkxnARY5znFR"
   },
   "outputs": [],
   "source": [
    "# Das hier funktioniert natürlich nicht. \n",
    "def erlaubt(d):\n",
    "  istDatum = False\n",
    "  return(istDatum)\n",
    "\n",
    "\n",
    "text = \"\"\n",
    "while text != \"zulässig\":\n",
    "  datum = input(\"Gib ein Datum ein (in der Form 2023-03-28) \")\n",
    "  if (erlaubt(datum)):\n",
    "    text = \"zulässig\"\n",
    "  else:\n",
    "    text = \"nicht zulässig\"\n",
    "  print(datum,\" ist als Datum \",text)"
   ]
  },
  {
   "cell_type": "markdown",
   "metadata": {
    "id": "XGq93v7C0xyc"
   },
   "source": [
    "## Python lernt Daten\n",
    "\n",
    "Jetzt rüsten wir unser Python-Programm auf - mit der Bibliothek ```datetime```. Die enthält eine Funktion namens ```strptime()``` (\"StringParseTime\"), die einen String - eine Zeichenkette - in ein datetime-Objekt umwandelt. (Was Objekte sind? Mehr dazu ein andermal. Hier stellen wir es uns wie eine Schuhschachtel für einen bestimmten Typ Schuhe vor.)  "
   ]
  },
  {
   "cell_type": "code",
   "execution_count": null,
   "metadata": {
    "id": "DM-jynl7018n"
   },
   "outputs": [],
   "source": [
    "# datetime-Objekte importieren: \n",
    "# hier fehlt was!\n",
    "\n",
    "# Jetzt gibt es zwei neue Objekte: \n",
    "# datetime - ein \"Schuhkarton\" für Datum und Zeitangabe\n",
    "# date - ein Schuhkarton nur für das Datum\n",
    "\n",
    "\n",
    "\n",
    "def erlaubt(d):\n",
    "  try:\n",
    "    istDatum = datetime.strptime(d,\"%Y-%m-%d\")\n",
    "    # Gib ein Datums-Objekt zurück\n",
    "    return(istDatum.date())\n",
    "  except: \n",
    "    return(False)\n",
    "\n",
    "print(erlaubt(\"2022-03-05\"))\n",
    "print(erlaubt(\"12.03.2023\"))\n",
    "print(erlaubt(\"Horst\"))\n"
   ]
  },
  {
   "cell_type": "markdown",
   "metadata": {
    "id": "iUJv4uaFKUPe"
   },
   "source": [
    "* Deutsche Daten verstehen? Das geht mit der Zusatz-Bibliothek ```locale```. Mehr hier: https://www.digitalocean.com/community/tutorials/python-string-to-datetime-strptime"
   ]
  },
  {
   "cell_type": "markdown",
   "metadata": {
    "id": "75h34iapLDdy"
   },
   "source": [
    "## Die Aufgabe: \n",
    "\n",
    "Jetzt hätte ich gern ein funktionsfähiges Programm, das: \n",
    "- ein Datum einliest (der Code von oben)\n",
    "- den String in ein Datums-Objekt umwandelt\n",
    "- prüft, ob das eingegebene Datum schon war (vor heute liegt) oder erst noch ist (nach heute liegt)\n",
    "\n",
    "Wichtiges Zusatzwissen: Das heutige Datum kriegt man über die Bibliotheks-Funktion ```date.today()```!"
   ]
  },
  {
   "cell_type": "code",
   "execution_count": null,
   "metadata": {
    "id": "dLFNdJAaNj-u"
   },
   "outputs": [],
   "source": [
    "# Hier passiert die Magie... \n",
    "\n",
    "\n",
    "# hier passiert die Arbeit...\n",
    "\n",
    "if (irgendwas):\n",
    "  print(\"Das ist ein Datum in der Zukunft!\")\n",
    "else:\n",
    "  print(\"Das Datum war schon.\")\n",
    "  if (nochirgendwas):\n",
    "    print(\"Und zwar heute.\")"
   ]
  },
  {
   "cell_type": "markdown",
   "metadata": {},
   "source": [
    "## Vorbereitung für den nächsten Schritt: Bibliotheken laden\n",
    "\n",
    "Funktionen - die vorbereiteten Werkzeuge sind ungeheuer praktisch: \n",
    "- Wenn ich dieselbe Aufgabe immer wieder erledigen will, muss ich den Code nur an einer Stelle schreiben - das vereinfacht Änderungen ungemein. \n",
    "- Eigentlich sind alle Probleme schon mal von irgendwem gelöst worden. Andere Programmierer haben ihre Code-Lösungen, ihre Funktionen, in Zusatzpakete geschnürt - Bibliotheken. \n",
    "\n",
    "Zusatzpakete statten Python zum Beispiel mit Fähigkeiten aus, die man zum Umgang mit Daten braucht: Daten aus einer Tabellen-Datei einlesen zum Beispiel, und damit rechnen. "
   ]
  },
  {
   "cell_type": "code",
   "execution_count": null,
   "metadata": {},
   "outputs": [],
   "source": [
    "import pandas as pd"
   ]
  },
  {
   "cell_type": "markdown",
   "metadata": {},
   "source": [
    "Den obigen Textblock ausgeführt - und nichts ist passiert? Dann hat alles geklappt - und wir können loslegen. \n",
    "\n",
    "**Wenn es nicht geklappt hat:** ...die Bibliotheken sind nicht immer alle schon auf dem Rechner. \n",
    "\n",
    "In der nächsten Aufgabe wollen wir Daten aus Tabellen-Dateien lesen. Dazu brauchen wir eine Bibliothek namens ```pandas``` - die dein Computer noch nicht kennt.  \n",
    "\n",
    "Der Code hier unten ist lauffähig - aber die Bibliothek fehlt unserem Computer noch. Wir müssen sie erst nachrüsten - dazu müssen wir ihm einen Befehl über die ***Kommandozeile*** geben: \n",
    "\n",
    "```\n",
    "pip install pandas\n",
    "\n",
    "Jetzt kann's weitergehen mit...\n",
    "\n",
    "# Teil 2: CSV-Datei einlesen\n",
    "Wir lesen die CSV-Datei `hessen_gemeinden_ags.csv` in eine neue Variable namens plz_df und schauen sie uns danach kurz an.\n",
    "\n",
    "Aber finden wir sie überhaupt? \n",
    "\n",
    "Nach Dateien müssen wir das Betriebssystem unseres Computers fragen - mit der Code-Bibliothek ```os```."
   ]
  },
  {
   "cell_type": "code",
   "execution_count": null,
   "metadata": {},
   "outputs": [],
   "source": [
    "import os\n",
    "\n",
    "# Das derzeitige Verzeichnis - das Arbeitsverzeichnis - ist auf den \n",
    "# meisten Computersystemen über den Namen '.' erreichbar. \n",
    "if 'hessen_gemeinden_ags.csv' in os.listdir('.'):\n",
    "    print(\"Datei 'hessen_gemeinden_ags.csv' gefunden!\")\n",
    "else:\n",
    "    print(\"Datei 'hessen_gemeinden_ags.csv' nicht gefunden.\")\n",
    "    print(os.listdir('.'))\n"
   ]
  },
  {
   "cell_type": "markdown",
   "metadata": {},
   "source": [
    "Warum findet der Computer die Datei nicht? Weil sie im Unterordner ```datei``` steckt. Also müssen wir das Arbeitsverzeichnis erst auf ```./daten``` ändern"
   ]
  },
  {
   "cell_type": "code",
   "execution_count": null,
   "metadata": {},
   "outputs": [],
   "source": [
    "print(\"Wir sind im Verzeichnis\",os.path.dirname(os.path.abspath('.')))\n",
    "    \n",
    "# Jetzt ins Unterverzeichnis \n",
    "os.chdir('./daten')\n",
    "print(os.listdir('.'))"
   ]
  },
  {
   "cell_type": "markdown",
   "metadata": {},
   "source": [
    "## Jetzt: unsere Datei lesen. \n",
    "\n",
    "```hessen_gemeinden_ags.csv``` ist ein gutartiges CSV: \n",
    "\n",
    "- Die Werte sind kommasepariert. \n",
    "- Der Zeichensatz der Datei ist UTF-8 - im Universal-Format gibt es keine Probleme mit Umlauten etc. "
   ]
  },
  {
   "cell_type": "code",
   "execution_count": null,
   "metadata": {},
   "outputs": [],
   "source": [
    "plz_df = pd.read_csv(\"hessen_gemeinden_ags.csv\")\n",
    "plz_df.head(5) #liest die ersten fünf Zeilen"
   ]
  },
  {
   "cell_type": "markdown",
   "metadata": {},
   "source": [
    "Prima! Dann könnten wir doch auch gleich die Datei ```de_kreise_pop.csv``` einlesen, oder?"
   ]
  },
  {
   "cell_type": "code",
   "execution_count": null,
   "metadata": {},
   "outputs": [],
   "source": [
    "plz_df = pd.read_csv(\"de_kreise_pop.csv\")\n",
    "plz_df.head(5) #liest die ersten fünf Zeilen"
   ]
  },
  {
   "cell_type": "markdown",
   "metadata": {},
   "source": [
    "Weshalb produziert das einen Fehler? Da unser CSV nicht \"comma-separated\" ist, sondern \"Semikolon-separated\", müssen wir dem Befehl den \"delimiter\", das Trennzeichen mitgeben. Wie? Das verrät dir die KI. "
   ]
  },
  {
   "cell_type": "code",
   "execution_count": null,
   "metadata": {},
   "outputs": [],
   "source": [
    "# HIER ANPASSEN\n",
    "plz_df = pd.read_csv(\"de_kreise_pop.csv\")\n",
    "plz_df.head(5) #liest die ersten fünf Zeilen"
   ]
  },
  {
   "cell_type": "markdown",
   "metadata": {},
   "source": [
    "Für die Supatopcheckerbunnies: \n",
    "\n",
    "Da wir die Python-Umgebung ```miniconda``` auf dem Rechner haben, könnten wir statt pip auch das Paketmanager-Programm ```conda``` nutzen - das ist schneller und vermeidet einige bestimmte Probleme. Aber: Vieles ist für conda nicht ohne weiteres verfügbar - Pip bedient sich bei einer großen, weltweiten Code-Bibliothek namens [PyPI](https://pypi.org/) im Internet, und da gibt es praktisch alles - zum Beispiel: [Datawrapper](https://pypi.org/project/datawrapper/)!\n",
    "\n",
    "Weshalb dann überhaupt den Hassel mit conda? Weil es eine bequeme Art ist, verschiedene Versionen ein und derselben Code-Bibliothek auf dem Computer zu haben, und das ist später (leider) oft wichtig, um anderer Leute Programme auszuführen. "
   ]
  }
 ],
 "metadata": {
  "colab": {
   "authorship_tag": "ABX9TyNv8KOM1GzALivXRyvdDKuj",
   "include_colab_link": true,
   "provenance": []
  },
  "kernelspec": {
   "display_name": "Python 3",
   "name": "python3"
  },
  "language_info": {
   "codemirror_mode": {
    "name": "ipython",
    "version": 3
   },
   "file_extension": ".py",
   "mimetype": "text/x-python",
   "name": "python",
   "nbconvert_exporter": "python",
   "pygments_lexer": "ipython3",
   "version": "3.10.14"
  }
 },
 "nbformat": 4,
 "nbformat_minor": 0
}
