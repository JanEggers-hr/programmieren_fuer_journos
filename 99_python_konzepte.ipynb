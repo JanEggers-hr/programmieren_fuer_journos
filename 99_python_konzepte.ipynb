{
 "cells": [
  {
   "cell_type": "markdown",
   "id": "904b90bf",
   "metadata": {},
   "source": [
    "# Programmieren: Grundlegende Konzepte...\n",
    "\n",
    "...und ihre Umsetzung in Python\n",
    "\n",
    "## 1. Variablen\n",
    "\n",
    "Variablen sind Namen, die man Speicherstellen gibt - an denen Daten, Zahlen, Buchstaben, Informationen abgelegt werden können.\n",
    "\n",
    "Unter diesem Namen kann man sie dann wieder abrufen. \n",
    "\n",
    "So kann man Informationen innerhalb des Programms transportieren - zum Beispiel eine Eingabe. \n",
    "\n",
    "Und: Wie in einer mathematischen Formel kann man die Variable einfügen - ohne wissen zu müssen, welchen Wert sie gerade enthält. "
   ]
  },
  {
   "cell_type": "code",
   "execution_count": 2,
   "id": "26871fa3",
   "metadata": {},
   "outputs": [
    {
     "name": "stdout",
     "output_type": "stream",
     "text": [
      "1\n"
     ]
    }
   ],
   "source": [
    "a = 1\n",
    "print (a)"
   ]
  },
  {
   "cell_type": "code",
   "execution_count": 3,
   "id": "c13e7507",
   "metadata": {},
   "outputs": [
    {
     "name": "stdout",
     "output_type": "stream",
     "text": [
      "1 2\n",
      "2\n"
     ]
    }
   ],
   "source": [
    "b = 2 \n",
    "print (a, b)\n",
    "print (a * b)\n",
    "a = a + b"
   ]
  },
  {
   "cell_type": "code",
   "execution_count": 4,
   "id": "a958cc93",
   "metadata": {},
   "outputs": [
    {
     "name": "stdout",
     "output_type": "stream",
     "text": [
      "Er lebe hoch! \n",
      "Er lebe hoch! Er lebe hoch! Er lebe hoch! \n",
      "Er lebe hoch! Er lebe hoch! Er lebe hoch! \n"
     ]
    }
   ],
   "source": [
    "\n",
    "c = \"Er lebe hoch! \"\n",
    "\n",
    "print(c)\n",
    "print(c * 3)\n",
    "print(c * a)"
   ]
  },
  {
   "cell_type": "code",
   "execution_count": 5,
   "id": "c236a166",
   "metadata": {},
   "outputs": [
    {
     "name": "stdout",
     "output_type": "stream",
     "text": [
      "Eingegeben: 98\n"
     ]
    }
   ],
   "source": [
    "d = input(\"Bitte einen Wert eingeben:\")\n",
    "print(\"Eingegeben:\",d)"
   ]
  },
  {
   "cell_type": "markdown",
   "id": "a77db35b",
   "metadata": {},
   "source": [
    "## 2. Datentypen\n",
    "\n",
    "Die Inhalte von Variablen unterscheiden sich: Daten - und damit die Variablen, denen sie zugewiesen können, können ganz unterschiedlicher Art sein. \n",
    "\n",
    "Manche Operationen kann ich nur mit dem richtigen Datentyp durchführen - \n",
    "Ich kann in der Regel nur gleiche Daten miteinander zusammenführen; dazu muss ich mitunter Daten in einen anderen Datentyp umwandeln. "
   ]
  },
  {
   "cell_type": "code",
   "execution_count": 6,
   "id": "774aa9ff",
   "metadata": {},
   "outputs": [
    {
     "name": "stdout",
     "output_type": "stream",
     "text": [
      "7\n",
      "34\n"
     ]
    },
    {
     "ename": "TypeError",
     "evalue": "unsupported operand type(s) for +: 'int' and 'str'",
     "output_type": "error",
     "traceback": [
      "\u001b[31m---------------------------------------------------------------------------\u001b[39m",
      "\u001b[31mTypeError\u001b[39m                                 Traceback (most recent call last)",
      "\u001b[36mCell\u001b[39m\u001b[36m \u001b[39m\u001b[32mIn[6]\u001b[39m\u001b[32m, line 6\u001b[39m\n\u001b[32m      4\u001b[39m \u001b[38;5;28mprint\u001b[39m(\u001b[33m\"\u001b[39m\u001b[33m3\u001b[39m\u001b[33m\"\u001b[39m + \u001b[33m\"\u001b[39m\u001b[33m4\u001b[39m\u001b[33m\"\u001b[39m)\n\u001b[32m      5\u001b[39m \u001b[38;5;66;03m# produziert einen Fehler\u001b[39;00m\n\u001b[32m----> \u001b[39m\u001b[32m6\u001b[39m \u001b[38;5;28mprint\u001b[39m(\u001b[32;43m3\u001b[39;49m\u001b[43m \u001b[49m\u001b[43m+\u001b[49m\u001b[43m \u001b[49m\u001b[33;43m\"\u001b[39;49m\u001b[33;43m4\u001b[39;49m\u001b[33;43m\"\u001b[39;49m)\n",
      "\u001b[31mTypeError\u001b[39m: unsupported operand type(s) for +: 'int' and 'str'"
     ]
    }
   ],
   "source": [
    "# funktioniert\n",
    "print(3 + 4)\n",
    "# funktioniert\n",
    "print(\"3\" + \"4\")\n",
    "# produziert einen Fehler\n",
    "print(3 + \"4\")"
   ]
  },
  {
   "cell_type": "markdown",
   "id": "4a232892",
   "metadata": {},
   "source": [
    "### Python-Datentypen\n",
    "\n",
    "In Python gibt es die Datentypen, die es so ähnlich in fast allen anderen Programmiersprachen gibt:\n",
    "\n",
    "- bool (Logik: True oder False)\n",
    "- int (ganze Zahlen: -2, -1, 0, 1, 2, ...)\n",
    "- float (Fließkommazahlen; 0.1, -3.4, 2.192E-12)\n",
    "- str (Zeichenketten; \"Hallo\", \"Welt\", \"123\")\n",
    "\n",
    "Strings sind eine Besonderheit: sie sind nicht ein einziger Wert, sondern eine Reihe von Werten - für jede einzelne Buchstaben einer. Man kann auf jedes dieser Zeichen zugreifen, wenn man weiß, an welcher Position es steht. "
   ]
  },
  {
   "cell_type": "code",
   "execution_count": 7,
   "id": "9fb15f1d",
   "metadata": {},
   "outputs": [
    {
     "name": "stdout",
     "output_type": "stream",
     "text": [
      "False\n",
      "2.192e-12 0\n",
      "2.192e-12 0\n",
      "I\n",
      "ch \n",
      "in ein TEXt\n",
      "Ich b\n"
     ]
    }
   ],
   "source": [
    "print(3 > 4)\n",
    "a = 2.192E-12\n",
    "print(a, int(a))\n",
    "print(str(a), str(int(a)))\n",
    "s = \"Ich bin ein TEXt\"\n",
    "print(s[0])\n",
    "print(s[1:4])\n",
    "print(s[5:])\n",
    "print(s[:5])"
   ]
  },
  {
   "cell_type": "markdown",
   "id": "30b88200",
   "metadata": {},
   "source": [
    "Dann hat Python noch sehr spezielle Behälter-Datentypen, die dazu dienen, Werte anderer Dateitypen zu sammeln: \n",
    "\n",
    "- list (Listen: [1, 2, 3], [\"Hallo\", \"Welt\"])\n",
    "- dict (Nachschlagetabellen: {\"a\": 1, \"b\": \"String\", \"c\": [1, 2, 3]})\n",
    "- tuple (wie eine Liste, aber nicht mehr zu verändern)"
   ]
  },
  {
   "cell_type": "code",
   "execution_count": 8,
   "id": "9cfcd82b",
   "metadata": {},
   "outputs": [
    {
     "name": "stdout",
     "output_type": "stream",
     "text": [
      "[1, 2, 3, 4, 5]\n",
      "[10, 2, 3, 4, 5]\n",
      "5\n",
      "A\n",
      "['A', 'B', 'C']\n",
      "['A', 7, 'C']\n"
     ]
    }
   ],
   "source": [
    "# Leere Liste\n",
    "a = [] \n",
    "\n",
    "a.append(1)\n",
    "a.append(2)\n",
    "a.extend([3, 4, 5])\n",
    "print(a)\n",
    "a[0] = 10\n",
    "print(a)\n",
    "print(len(a))\n",
    "\n",
    "b = [\"A\", \"B\"]\n",
    "print(b[0])\n",
    "b.append(\"D\")\n",
    "b[2] = \"C\"\n",
    "print(b)\n",
    "b[1] = 7\n",
    "print(b)\n",
    "\n",
    "\n"
   ]
  },
  {
   "cell_type": "code",
   "execution_count": 9,
   "id": "51509c00",
   "metadata": {},
   "outputs": [
    {
     "name": "stdout",
     "output_type": "stream",
     "text": [
      "{'Vorname': 'Jan', 'Mittelname': 'Günther', 'Nachname': 'Eggers', 'Geburtsjahr': 1968, 'Arbeitgeber': ['SWR', 'SFB', 'DLF', 'hr'], 'Augenfarbe': 'blond'}\n",
      "<class 'dict'>\n"
     ]
    }
   ],
   "source": [
    "c = {\n",
    "    \"Vorname\": \"Jan\",\n",
    "    \"Mittelname\": \"\",\n",
    "    \"Nachname\": \"Eggers\",\n",
    "    \"Geburtsjahr\": 1968,\n",
    "    \"Arbeitgeber\": [\"SWR\", \"SFB\", \"DLF\", \"hr\"]\n",
    "}\n",
    "c[\"Mittelname\"] = \"Günther\"\n",
    "c[\"Augenfarbe\"] = \"blond\"\n",
    "print(c)\n",
    "print(type(c))"
   ]
  },
  {
   "cell_type": "markdown",
   "id": "2a57726d",
   "metadata": {},
   "source": [
    "## 3. Bedingungen und Schleifen\n",
    "\n",
    "Eine **Bedingung** erlaubt dem Programm, zu reagieren: Abhängig vom Ergebnis einer Berechnung - oder vom Inhalt einer Variable - führt das Programm die passende Möglichkeit aus."
   ]
  },
  {
   "cell_type": "code",
   "execution_count": 10,
   "id": "15ca9c99",
   "metadata": {},
   "outputs": [
    {
     "name": "stdout",
     "output_type": "stream",
     "text": [
      "UNBEKANNTES TIER\n"
     ]
    }
   ],
   "source": [
    "tier = input(\"Tier eingeben\")\n",
    "if tier in [\"Hund\", \"Katze\", \"Schaf\"]:\n",
    "    if tier == \"Hund\":\n",
    "        print(\"Mag Knochen\")\n",
    "    elif tier == \"Katze\":\n",
    "        print(\"Mag Mäuse\")\n",
    "    else:\n",
    "        print(\"Muss ein Schaf sein, mag Gras\")\n",
    "else:\n",
    "    print(\"UNBEKANNTES TIER\")"
   ]
  },
  {
   "cell_type": "markdown",
   "id": "bdd869b8",
   "metadata": {},
   "source": [
    "Eine **Schleife** ist eine Sonderform der Bedingung: Das Innere der Schleife wird immer wieder wiederholt, solange, bis die Bedingung zutrifft. "
   ]
  },
  {
   "cell_type": "code",
   "execution_count": 11,
   "id": "73dc8ae7",
   "metadata": {},
   "outputs": [
    {
     "name": "stdout",
     "output_type": "stream",
     "text": [
      "Hund\n",
      "Katze\n",
      "Maus\n",
      "Okapi\n",
      "UNBEKANNTES TIER\n",
      "Bekanntes Tier: Maus\n"
     ]
    }
   ],
   "source": [
    "for tier2 in [\"Hund\", \"Katze\", \"Maus\", tier]:\n",
    "    print(tier2)\n",
    "\n",
    "tier3 = input(\"Tier eingeben\")\n",
    "while tier3 not in [\"Hund\", \"Katze\", \"Maus\"]:\n",
    "    print(\"UNBEKANNTES TIER\")\n",
    "    tier3 = input(\"Neues Tier eingeben\")\n",
    "print(f\"Bekanntes Tier: {tier3}\")"
   ]
  },
  {
   "cell_type": "markdown",
   "id": "8988344c",
   "metadata": {},
   "source": [
    "## 4. Subroutinen\n",
    "\n",
    "Code-Teile, die ich immer wieder aufrufen kann - und Variablen erlauben mir, den Code auf verschiedene Daten anzuwenden. "
   ]
  },
  {
   "cell_type": "code",
   "execution_count": 12,
   "id": "85be69b3",
   "metadata": {},
   "outputs": [
    {
     "name": "stdout",
     "output_type": "stream",
     "text": [
      "Mäuse\n",
      "UNBEKANNTES TIER\n",
      "None\n",
      "UNBEKANNTES TIER\n",
      "Mäuse None\n"
     ]
    }
   ],
   "source": [
    "tiere = [\"Hund\", \"Katze\", \"Schaf\"]\n",
    "def fuettern(tier): \n",
    "    if tier in tiere: \n",
    "        if tier == \"Hund\":\n",
    "            return \"Knochen\"\n",
    "        elif tier == \"Katze\":\n",
    "            return \"Mäuse\"\n",
    "        else:\n",
    "            return \"Gras\"\n",
    "    else:\n",
    "        print(\"UNBEKANNTES TIER\")\n",
    "        return None\n",
    "            \n",
    "print(fuettern(\"Katze\"))\n",
    "print(fuettern(\"Maus\"))\n",
    "print(fuettern(\"Katze\"), fuettern(\"Maus\"))"
   ]
  }
 ],
 "metadata": {
  "kernelspec": {
   "display_name": "Python 3",
   "language": "python",
   "name": "python3"
  },
  "language_info": {
   "codemirror_mode": {
    "name": "ipython",
    "version": 3
   },
   "file_extension": ".py",
   "mimetype": "text/x-python",
   "name": "python",
   "nbconvert_exporter": "python",
   "pygments_lexer": "ipython3",
   "version": "3.12.12"
  }
 },
 "nbformat": 4,
 "nbformat_minor": 5
}
