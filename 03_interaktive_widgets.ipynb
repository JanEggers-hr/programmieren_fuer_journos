{
 "cells": [
  {
   "cell_type": "markdown",
   "metadata": {},
   "source": [
    "# 03_interaktive_widgets.ipynb\n",
    "Kommandozeile ist doof - jetzt bauen wir kleine Anwendungen. \n",
    "\n",
    "CC-BY Jan Eggers\n",
    "\n",
    "## Was bisher geschah: \n",
    "- Wir haben eine Arbeitsumgebung eingerichtet. \n",
    "- In dieser Umgebung haben wir ein kleines Python-Programm mit einer Funktion zum Laufen gebracht. \n",
    "- Wir haben uns außerdem ein Programm zur Zinsberechnung geschrieben. \n",
    "\n",
    "Hier ist eine Zins- und Inflationsberechnungs-Funktion, eine einfache Umsetzung der Formel.  "
   ]
  },
  {
   "cell_type": "code",
   "execution_count": 3,
   "metadata": {},
   "outputs": [
    {
     "name": "stdout",
     "output_type": "stream",
     "text": [
      "Wir haben 1000.00 Euro, 3.0 % Zinsen und 1.5 % Inflation\n",
      "Das entspräche nach 10 Jahren in heutiger Kaufkraft: 1158.01 Euro\n"
     ]
    }
   ],
   "source": [
    "def berechne_zinsen(jahre: int, zinssatz: float, inflationsrate: float):\n",
    "# Zinsen und Inflation als Kommazahl, das heißt: \n",
    "# ein Zinssatz von 3% wäre 0,03\n",
    "# Multipliziert den Zins mit sich selbst für die Anzahl der Jahre\n",
    "# (also: als Exponentialfunktion zins^jahre, was man in Python so schreibt:)\n",
    "    return 1 * (1 + zinssatz) ** jahre / (1 + inflationsrate) ** jahre\n",
    "\n",
    "# Beispiel:\n",
    "kapital = 1000\n",
    "zins = 0.03\n",
    "inflation = 0.015\n",
    "print(f\"Wir haben {kapital:.2f} Euro, {zins * 100:.1f} % Zinsen und {inflation * 100:.1f} % Inflation\") \n",
    "print(f\"Das entspräche nach 10 Jahren in heutiger Kaufkraft: {kapital*berechne_zinsen(10,zins, inflation):.2f} Euro\")"
   ]
  },
  {
   "cell_type": "markdown",
   "metadata": {},
   "source": [
    "## Aufgabe 1: \n",
    "- Führt den Codeschnipsel oben aus. \n",
    "- Kopiert den Code in ein Sprachmodell und lasst ihn euch erklären, bis ihr versteht, was alles tut. (Das geht in VSC mit installierter Continue-Erweiterung einfach so: Code markieren, Ctrl-L bzw. Cmd-L klicken, \"Erkläre mir das\" eingeben)\n",
    "- Beantwortet nachher die Fragen im **Fragebogen** - Link ist ganz unten, aber es gibt noch mehr Aufgaben.\n",
    "\n",
    "## Und jetzt wird's interessant!\n",
    "Sachen auf der Kommandozeile ändern? LAANGWEILIG! Wir bauen eine kleine App mit der Library ```ipywidgets```.\n",
    "\n",
    "Führt die Code-Box unten aus: "
   ]
  },
  {
   "cell_type": "code",
   "execution_count": null,
   "metadata": {},
   "outputs": [
    {
     "data": {
      "application/vnd.jupyter.widget-view+json": {
       "model_id": "7a9d5c5533e0425e817eea1c9396c341",
       "version_major": 2,
       "version_minor": 0
      },
      "text/plain": [
       "HBox(children=(VBox(children=(IntSlider(value=50, description='Int Slider'), FloatSlider(value=0.03, descripti…"
      ]
     },
     "metadata": {},
     "output_type": "display_data"
    }
   ],
   "source": [
    "from ipywidgets import HBox, VBox, IntSlider, FloatSlider, HTML\n",
    "\n",
    "# Define the sliders and output field\n",
    "int_slider = IntSlider(description='Int Slider', min=0, max=100, value=50)\n",
    "float_slider_1 = FloatSlider(description='Float Slider 1', \n",
    "                             \n",
    "                             min=0.0, \n",
    "                             max=1.0, \n",
    "                             step=0.01, \n",
    "                             value=0.03)\n",
    "float_slider_2 = FloatSlider(description='Float Slider 2', \n",
    "                             min=0.0, \n",
    "                             max=1.0, \n",
    "                             step=0.01, \n",
    "                             value=.015)\n",
    "output_field = HTML()\n",
    "\n",
    "# Define the function to update the output field\n",
    "def update_output(change):\n",
    "    jahre_val = int_slider.value\n",
    "    float_val_1 = float_slider_1.value\n",
    "    float_val_2 = float_slider_2.value\n",
    "    output_field.value = f\"Zinssatz für {jahre_val}, Float 1: {float_val_1:.1f}, Float 2: {float_val_2:.1f}: {berechne_zinsen(jahre_val,float_val_1,float_val_2)}\"\n",
    "\n",
    "# Attach the function to the sliders' change events\n",
    "int_slider.observe(update_output, names='value')\n",
    "float_slider_1.observe(update_output, names='value')\n",
    "float_slider_2.observe(update_output, names='value')\n",
    "\n",
    "# Display the app\n",
    "app = HBox([VBox([int_slider, float_slider_1, float_slider_2]), \n",
    "            output_field])\n",
    "display(app)\n"
   ]
  },
  {
   "cell_type": "markdown",
   "metadata": {},
   "source": [
    "## Aufgabe 2: \n",
    "\n",
    "- Lasst euch wieder vom Sprachmodell erklären, was da passiert. \n",
    "- Schreibt das Programm so um, dass es die Funktion zur Zinsberechnung einbettet - und im HTML-Feld aus\n",
    "- Könnt ihr ein zusätzliches Eingabefeld für den Euro-Betrag einbauen? Irgendwas anderes Cooles?\n",
    "\n",
    "## Abschluss: \n",
    "War nicht einfach. Aber hey: wenn ihr durch seid, bitte beantwortet einmal kurz diese Fragen und schickt mir die Antworten per Mail: \n",
    "- Funktioniert's? :) Habt ihr lange gebraucht, und wie oft musstet ihr die KI fragen? (Nicht zu detailliert antworten - geht mir nur darum zu hören, wie es euch damit geht.)\n",
    "- Was ist ein \"F-String\"?\n",
    "- In dem F-String oben kommt die Zeichenkette ```{kapital:.2f}``` vor. Was macht die? Wofür ist der ```.2f```-Teil verantwortlich?\n",
    "- Wozu ist die Funktion ```update_output``` gut, und wann wird sie aufgerufen?\n",
    "- Was würde passieren, wenn wir den Befehl ```float_slider_2.observe(update_output, names='value')``` weglassen?"
   ]
  }
 ],
 "metadata": {
  "kernelspec": {
   "display_name": "base",
   "language": "python",
   "name": "python3"
  },
  "language_info": {
   "codemirror_mode": {
    "name": "ipython",
    "version": 3
   },
   "file_extension": ".py",
   "mimetype": "text/x-python",
   "name": "python",
   "nbconvert_exporter": "python",
   "pygments_lexer": "ipython3",
   "version": "3.12.2"
  }
 },
 "nbformat": 4,
 "nbformat_minor": 2
}
